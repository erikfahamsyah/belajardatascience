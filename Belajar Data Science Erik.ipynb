{
 "cells": [
  {
   "cell_type": "code",
   "execution_count": null,
   "id": "0890437b-674c-4a37-a622-4c06090a5284",
   "metadata": {},
   "outputs": [],
   "source": [
    "# Tugas Coursera Erik"
   ]
  },
  {
   "cell_type": "code",
   "execution_count": null,
   "id": "f0de99b8-c25f-41aa-8c69-6a3ffca94997",
   "metadata": {},
   "outputs": [],
   "source": [
    "## Pengenalan\n",
    "Notebook ini dibuat sebagai bagian dari proyek akhir untuk kursus Data Science. \n",
    "Notebook ini menunjukkan penggunaan berbagai alat dan teknik data science yang dipelajari selama kursus."
   ]
  },
  {
   "cell_type": "code",
   "execution_count": null,
   "id": "c127fd1d-d298-4192-a146-1b9b3a93126c",
   "metadata": {},
   "outputs": [],
   "source": [
    "## Bahasa Data Science\n",
    "- Python\n",
    "- R\n",
    "- SQL\n",
    "- Julia\n",
    "- Java\n",
    "- Scala"
   ]
  },
  {
   "cell_type": "code",
   "execution_count": null,
   "id": "7946e134-96ad-45f3-86cb-f3ed800dde59",
   "metadata": {},
   "outputs": [],
   "source": [
    "## Perpustakaan Data Science\n",
    "- NumPy\n",
    "- pandas\n",
    "- Matplotlib\n",
    "- scikit-learn\n",
    "- TensorFlow\n",
    "- Keras\n",
    "- PyTorch\n",
    "- seaborn"
   ]
  },
  {
   "cell_type": "code",
   "execution_count": null,
   "id": "b9f6a4be-e0e5-457c-b8fb-0a0d0cb964e6",
   "metadata": {},
   "outputs": [],
   "source": [
    "## Alat Data Science\n",
    "\n",
    "| Alat              | Deskripsi                           |\n",
    "|-------------------|-------------------------------------|\n",
    "| Jupyter Notebook  | Lingkungan komputasi interaktif     |\n",
    "| RStudio           | IDE untuk pemrograman R             |\n",
    "| Apache Spark      | Kerangka kerja komputasi kluster    |\n",
    "| Tableau           | Perangkat lunak visualisasi data    |\n",
    "| GitHub            | Kontrol versi dan kolaborasi        |"
   ]
  },
  {
   "cell_type": "code",
   "execution_count": null,
   "id": "2a06d2e5-1d89-4b9e-b0de-f20c8e58dcdb",
   "metadata": {},
   "outputs": [],
   "source": [
    "## Contoh Ekspresi Aritmatika\n",
    "Di bawah ini adalah beberapa contoh operasi aritmatika dasar dalam Python."
   ]
  },
  {
   "cell_type": "code",
   "execution_count": 2,
   "id": "4424910d-e261-4987-a0cb-b0dbc2a49852",
   "metadata": {},
   "outputs": [
    {
     "data": {
      "text/plain": [
       "20"
      ]
     },
     "execution_count": 2,
     "metadata": {},
     "output_type": "execute_result"
    }
   ],
   "source": [
    "# Contoh perkalian dan penjumlahan\n",
    "a=5\n",
    "b=3\n",
    "hasil=(a*b)+a\n",
    "hasil"
   ]
  },
  {
   "cell_type": "code",
   "execution_count": 3,
   "id": "191f5e1d-1a1f-4b4a-8578-779e8ef311c5",
   "metadata": {},
   "outputs": [
    {
     "data": {
      "text/plain": [
       "2.0"
      ]
     },
     "execution_count": 3,
     "metadata": {},
     "output_type": "execute_result"
    }
   ],
   "source": [
    "# Konversi menit ke jam\n",
    "menit = 120\n",
    "jam = menit / 60\n",
    "jam"
   ]
  },
  {
   "cell_type": "code",
   "execution_count": null,
   "id": "d427bb2e-ab41-433b-9fd8-eed3734fa4e6",
   "metadata": {},
   "outputs": [],
   "source": [
    "## Tujuan\n",
    "- Menunjukkan penggunaan JupyterLite Notebook.\n",
    "- Mendaftarkan bahasa, perpustakaan, dan alat yang umum digunakan dalam data science.\n",
    "- Melakukan operasi aritmatika dasar.\n",
    "- Mengkonversi unit (menit ke jam).\n",
    "- Membagikan notebook di GitHub."
   ]
  },
  {
   "cell_type": "code",
   "execution_count": null,
   "id": "feeb7b4f-d415-44f1-83d6-b5db80133bbe",
   "metadata": {},
   "outputs": [],
   "source": [
    "## Penulis\n",
    "Erik Yusuf Fahamsyah"
   ]
  }
 ],
 "metadata": {
  "kernelspec": {
   "display_name": "Python 3 (ipykernel)",
   "language": "python",
   "name": "python3"
  },
  "language_info": {
   "codemirror_mode": {
    "name": "ipython",
    "version": 3
   },
   "file_extension": ".py",
   "mimetype": "text/x-python",
   "name": "python",
   "nbconvert_exporter": "python",
   "pygments_lexer": "ipython3",
   "version": "3.11.7"
  }
 },
 "nbformat": 4,
 "nbformat_minor": 5
}
